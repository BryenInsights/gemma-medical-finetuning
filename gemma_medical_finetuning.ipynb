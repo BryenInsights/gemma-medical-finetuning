{
  "cells": [
    {
      "cell_type": "markdown",
      "id": "aac98f21",
      "metadata": {
        "id": "aac98f21"
      },
      "source": [
        "# Fine‑tuning **Gemma‑3 Instruct (1 B)** on the *MTS‑Dialog* medical‑conversation dataset  \n",
        "\n",
        "*An end‑to‑end, LoRA‑based workflow with evaluation & demo*  \n"
      ]
    },
    {
      "cell_type": "markdown",
      "id": "68e16b78",
      "metadata": {
        "id": "68e16b78"
      },
      "source": [
        "**Provenance / Credits**\n",
        "\n",
        "* Originally authored in Google Colab.  \n",
        "* Refactored and cleaned up for GitHub readability – May 2025.  \n",
        "* Dataset: **MTS‑Dialog** (© 2024, MIT‑licensed)  \n",
        "* Model: **Gemma‑3 Instruct 1 B** via `keras‑hub`.  \n",
        "\n",
        "> The notebook assumes Google Colab **or** a local machine with a modern GPU and official Gemma access.  \n"
      ]
    },
    {
      "cell_type": "code",
      "execution_count": 1,
      "id": "f94a756a",
      "metadata": {
        "id": "f94a756a"
      },
      "outputs": [],
      "source": [
        "%%capture\n",
        "# ─── Environment setup ────────────────────────────────────────────────────────\n",
        "# Feel free to skip if these libraries are already installed.\n",
        "!pip install -q -U keras-hub keras keras-nlp rouge_score scipy tqdm ipywidgets"
      ]
    },
    {
      "cell_type": "markdown",
      "id": "6d8b1dd2",
      "metadata": {
        "id": "6d8b1dd2"
      },
      "source": [
        "## 🔑 Reproducibility – set a single global RNG seed"
      ]
    },
    {
      "cell_type": "code",
      "execution_count": null,
      "id": "62fb9188",
      "metadata": {},
      "outputs": [],
      "source": [
        "# Download the utils.py file from the GitHub repository and charge it through Colab\n",
        "from google.colab import files\n",
        "uploaded = files.upload()"
      ]
    },
    {
      "cell_type": "code",
      "execution_count": 2,
      "id": "44a8ef49",
      "metadata": {
        "colab": {
          "base_uri": "https://localhost:8080/"
        },
        "id": "44a8ef49",
        "outputId": "65060c7a-6127-41e9-d349-329a22e19f05"
      },
      "outputs": [],
      "source": [
        "import os, random, gc, json, textwrap\n",
        "import numpy as np\n",
        "import tensorflow as tf\n",
        "\n",
        "SEED = 42\n",
        "set_global_seed(SEED)"
      ]
    },
    {
      "cell_type": "code",
      "execution_count": 3,
      "id": "b127f1b4",
      "metadata": {
        "id": "b127f1b4"
      },
      "outputs": [],
      "source": [
        "# ─── Core libraries ──────────────────────────────────────────────────────────\n",
        "import pprint, itertools, math, time\n",
        "import pandas as pd\n",
        "import matplotlib.pyplot as plt\n",
        "from tqdm import tqdm\n",
        "from scipy import stats\n",
        "from rouge_score import rouge_scorer\n",
        "# import torch\n",
        "\n",
        "import keras\n",
        "import keras_hub\n",
        "import keras_nlp\n",
        "from keras.callbacks import EarlyStopping\n",
        "\n",
        "from utils import set_global_seed, estimate_tokens, clear_memory, filter_data_by_length, make_ds, compile_with_sampler, compile_for_training, safe_generate, evaluate_model\n",
        "\n",
        "# Optional: Colab‑only helper to pull your Kaggle creds from the browser\n",
        "try:\n",
        "    from google.colab import userdata  # type: ignore\n",
        "    os.environ[\"KAGGLE_USERNAME\"] = userdata.get(\"KAGGLE_USERNAME\")\n",
        "    os.environ[\"KAGGLE_KEY\"] = userdata.get(\"KAGGLE_KEY\")\n",
        "except (ImportError, ModuleNotFoundError):\n",
        "    print(\"Not on Colab – set $KAGGLE_USERNAME and $KAGGLE_KEY manually if needed.\")"
      ]
    },
    {
      "cell_type": "markdown",
      "id": "b339150a",
      "metadata": {
        "id": "b339150a"
      },
      "source": [
        "## 📝 Prompt template (single definition – DRY)"
      ]
    },
    {
      "cell_type": "code",
      "execution_count": 4,
      "id": "d60392af",
      "metadata": {
        "colab": {
          "base_uri": "https://localhost:8080/"
        },
        "id": "d60392af",
        "outputId": "ceafe600-e666-4433-beb2-8dcfd3b566a1"
      },
      "outputs": [
        {
          "name": "stdout",
          "output_type": "stream",
          "text": [
            "<start_of_turn>user\n",
            "\n",
            "### Instruction:\n",
            "You are a clinical documentation assistant. Convert the doctor–patient conversation below into a concise clinical note. Include only medically relevant facts (symptoms, diagnoses, medications with dosages, procedures). Do not add commentary or conclusions.\n",
            "\n",
            "### Doctor-Patient Dialogue:\n",
            "{dialogue}\n",
            "<end_of_turn>\n",
            "\n",
            "<start_of_turn>assistant\n",
            "\n"
          ]
        }
      ],
      "source": [
        "# Using Gemma's native chat format for best performance\n",
        "TEMPLATE = \"\"\"<start_of_turn>user\n",
        "\n",
        "### Instruction:\n",
        "{instruction}\n",
        "\n",
        "### Doctor-Patient Dialogue:\n",
        "{dialogue}\n",
        "<end_of_turn>\n",
        "\n",
        "<start_of_turn>assistant\n",
        "\"\"\"\n",
        "\n",
        "instruction = (\n",
        "    \"You are a clinical documentation assistant. Convert the doctor–patient \"\n",
        "    \"conversation below into a concise clinical note. Include only medically \"\n",
        "    \"relevant facts (symptoms, diagnoses, medications with dosages, procedures). \"\n",
        "    \"Do not add commentary or conclusions.\"\n",
        ")\n",
        "\n",
        "formatted_template = TEMPLATE.format(instruction=instruction, dialogue=\"{dialogue}\")\n",
        "print(formatted_template)"
      ]
    },
    {
      "cell_type": "markdown",
      "id": "46bb9dbc",
      "metadata": {
        "id": "46bb9dbc"
      },
      "source": [
        "### 🔍 Quick sanity‑check inference with the *base* Gemma model"
      ]
    },
    {
      "cell_type": "code",
      "execution_count": 7,
      "id": "99fb90c6",
      "metadata": {
        "id": "99fb90c6"
      },
      "outputs": [],
      "source": [
        "clear_memory()\n",
        "\n",
        "base_model = keras_hub.models.Gemma3CausalLM.from_preset(\"gemma3_instruct_1b\")\n",
        "compile_with_sampler(base_model)\n",
        "\n",
        "sample_dialogue = \"\"\"Doctor: How are you feeling today?\n",
        "Patient: I'm still having chest pains.\n",
        "Doctor: Are they sharp or dull?\n",
        "Patient: More of a crushing pressure right here.\"\"\"\n",
        "\n",
        "prompt = TEMPLATE.format(\n",
        "    instruction=instruction,\n",
        "    dialogue= sample_dialogue\n",
        ")\n",
        "\n",
        "print(base_model.generate(prompt, max_length=1024))"
      ]
    },
    {
      "cell_type": "markdown",
      "id": "LHjZX2boiLC1",
      "metadata": {
        "id": "LHjZX2boiLC1"
      },
      "source": [
        "#### 🌐 Download the MTS-Dialog dataset\n",
        "###### You can skip this step if you already have the datasets"
      ]
    },
    {
      "cell_type": "code",
      "execution_count": 8,
      "id": "T7RgFEhTiAnS",
      "metadata": {
        "colab": {
          "base_uri": "https://localhost:8080/"
        },
        "id": "T7RgFEhTiAnS",
        "outputId": "41dc57d6-f676-4962-aaba-ba80367bd840"
      },
      "outputs": [],
      "source": [
        "from pathlib import Path\n",
        "import subprocess, sys, shutil\n",
        "\n",
        "DATA_REPO = \"https://github.com/abachaa/MTS-Dialog.git\"\n",
        "DATA_DIR  = Path(\"MTS-Dialog\") / \"Main-Dataset\"\n",
        "\n",
        "if DATA_DIR.exists():\n",
        "    print(f\"✅ Dataset already present at: {DATA_DIR.resolve()}\")\n",
        "else:\n",
        "    print(\"📥 Cloning MTS-Dialog repository (shallow)…\")\n",
        "    # --depth 1 keeps clone fast and lightweight\n",
        "    subprocess.run([\"git\", \"clone\", \"--depth\", \"1\", DATA_REPO], check=True)\n",
        "\n",
        "    if not DATA_DIR.exists():\n",
        "        sys.exit(\"❌ Dataset download failed - Main-Dataset not found.\")\n",
        "\n",
        "    print(f\"✅ Download complete! Data located at: {DATA_DIR.resolve()}\")\n",
        "\n",
        "# Make a handy constant the rest of the notebook can rely on\n",
        "DATA_PATH = DATA_DIR"
      ]
    },
    {
      "cell_type": "markdown",
      "id": "2458620d",
      "metadata": {
        "id": "2458620d"
      },
      "source": [
        "## 📚 Load & prepare the *MTS‑Dialog* training set\n",
        "\n",
        "*MTS‑Dialog* (`1.7 k` doctor–patient conversations with expert summaries).  \n",
        "Below we:  \n",
        "1. Fetch or load the CSV  \n",
        "2. (Optionally) **sample 500 rows** for a quick LoRA demo  \n",
        "3. Wrap dialogue text in triple quotes to preserve line breaks  \n",
        "4. Build two parallel lists `prompts` and `responses` expected by `keras‑hub`  \n"
      ]
    },
    {
      "cell_type": "code",
      "execution_count": 9,
      "id": "f98abd29",
      "metadata": {
        "colab": {
          "base_uri": "https://localhost:8080/"
        },
        "id": "f98abd29",
        "outputId": "3586d5bc-a0ff-402d-907d-755f1eb56b6d"
      },
      "outputs": [],
      "source": [
        "# DATA_PATH = \"/content/MTS-Dialog-TrainingSet.csv\"  # adjust if running locally\n",
        "\n",
        "\n",
        "df = pd.read_csv(DATA_PATH / \"MTS-Dialog-TrainingSet.csv\")\n",
        "print(f\"💾 Loaded dataset with {len(df):,} rows\")\n",
        "\n",
        "# --- speed‑up during experimentation ---\n",
        "# df = df.sample(n=200, random_state=SEED)  # comment‑out for full training\n",
        "\n",
        "# --- minimal preprocessing ---\n",
        "df = df.dropna(subset=[\"dialogue\", \"section_text\"])\n",
        "\n",
        "# Remove rows where 'section_text' is very short\n",
        "df = df.query(\"section_text.str.len() > 30\", engine=\"python\")\n",
        "\n",
        "# Curly-quote normalisation\n",
        "df[\"section_text\"] = df[\"section_text\"].str.replace(\"’\", \"'\", regex=False)\n",
        "df[\"dialogue\"]      = df[\"dialogue\"].str.replace(\"’\", \"'\", regex=False)\n",
        "\n",
        "# Trim whitespace and add end token to 'section_text'\n",
        "df[\"section_text\"] = df[\"section_text\"].str.strip() + \"\\n<end_of_turn>\"\n",
        "\n",
        "# Trim whitespace\n",
        "df[\"dialogue\"] = df[\"dialogue\"].str.strip()\n",
        "print(f\"💾 Number of section texts after trimming and basic preprocessing: {len(df['section_text']):,} rows\") # Print after trimming\n",
        "\n",
        "prompts, responses = [], []\n",
        "for row in df.itertuples(index=False):\n",
        "    prompts.append(\n",
        "        TEMPLATE.format(instruction=instruction, dialogue=row.dialogue)\n",
        "    )\n",
        "    responses.append(row.section_text)\n",
        "\n",
        "# Stage 2: Token-length filtering (after prompt formatting)\n",
        "\n",
        "prompts, responses = filter_data_by_length(prompts, responses, max_input_tokens=1024)\n",
        "\n",
        "data = {'prompts': prompts, 'responses': responses}\n",
        "print(f\"✅ Prepared {len(prompts):,} filtered prompt/response pairs\")"
      ]
    },
    {
      "cell_type": "code",
      "execution_count": 10,
      "id": "RwwENwLwk5JK",
      "metadata": {
        "colab": {
          "base_uri": "https://localhost:8080/"
        },
        "id": "RwwENwLwk5JK",
        "outputId": "c6a5d204-328f-4bec-bdce-6da996fa25b9"
      },
      "outputs": [
        {
          "name": "stdout",
          "output_type": "stream",
          "text": [
            "🔹 Train samples: 831\n",
            "🔹 Val   samples: 92\n"
          ]
        },
        {
          "data": {
            "text/plain": [
              "47"
            ]
          },
          "execution_count": 10,
          "metadata": {},
          "output_type": "execute_result"
        }
      ],
      "source": [
        "# ─── 🗂️ Train/val split ➜ tf.data pipeline (memory-light) ──────────────\n",
        "VAL_FRACTION = 0.10\n",
        "rng = np.random.default_rng(SEED)\n",
        "\n",
        "prompts_arr   = np.array(data[\"prompts\"],    dtype=object)\n",
        "responses_arr = np.array(data[\"responses\"],  dtype=object)\n",
        "\n",
        "idx        = rng.permutation(len(prompts_arr))\n",
        "val_size   = int(len(idx) * VAL_FRACTION)\n",
        "val_idx, train_idx = idx[:val_size], idx[val_size:]\n",
        "\n",
        "train_data = make_ds(prompts_arr[train_idx], responses_arr[train_idx])\n",
        "val_data   = make_ds(prompts_arr[val_idx],   responses_arr[val_idx])\n",
        "\n",
        "print(f\"🔹 Train samples: {len(train_idx)}\")\n",
        "print(f\"🔹 Val   samples: {len(val_idx)}\")\n",
        "\n",
        "# —— immediately free the big NumPy arrays ——\n",
        "del prompts_arr, responses_arr, idx, train_idx, val_idx\n",
        "gc.collect()"
      ]
    },
    {
      "cell_type": "markdown",
      "id": "11ac89f7",
      "metadata": {
        "id": "11ac89f7"
      },
      "source": [
        "## 🔧 LoRA fine‑tuning\n",
        "\n",
        "> Mixed‑precision (`keras.mixed_precision.set_global_policy('mixed_bfloat16')`)  \n",
        "> can further reduce memory but is optional.  \n"
      ]
    },
    {
      "cell_type": "code",
      "execution_count": 11,
      "id": "7abd9bc8",
      "metadata": {
        "colab": {
          "base_uri": "https://localhost:8080/",
          "height": 488
        },
        "id": "7abd9bc8",
        "outputId": "f970dcb7-0a41-42e3-d1d9-eac4a995b448"
      },
      "outputs": [
        {
          "name": "stdout",
          "output_type": "stream",
          "text": [
            "✅ Model compiled for training with AdamW optimizer (bias/scale excluded from weight decay)\n",
            "Epoch 1/8\n",
            "\u001b[1m831/831\u001b[0m \u001b[32m━━━━━━━━━━━━━━━━━━━━\u001b[0m\u001b[37m\u001b[0m \u001b[1m1175s\u001b[0m 1s/step - loss: 0.1345 - sparse_categorical_accuracy: 0.5763 - val_loss: 0.1190 - val_sparse_categorical_accuracy: 0.6002\n",
            "Epoch 2/8\n",
            "\u001b[1m831/831\u001b[0m \u001b[32m━━━━━━━━━━━━━━━━━━━━\u001b[0m\u001b[37m\u001b[0m \u001b[1m1119s\u001b[0m 1s/step - loss: 0.1198 - sparse_categorical_accuracy: 0.6205 - val_loss: 0.1179 - val_sparse_categorical_accuracy: 0.6078\n",
            "Epoch 3/8\n",
            "\u001b[1m831/831\u001b[0m \u001b[32m━━━━━━━━━━━━━━━━━━━━\u001b[0m\u001b[37m\u001b[0m \u001b[1m1075s\u001b[0m 1s/step - loss: 0.0939 - sparse_categorical_accuracy: 0.6741 - val_loss: 0.1200 - val_sparse_categorical_accuracy: 0.6018\n",
            "💾  Saved LoRA adapters to lora_rank4_final.weights.lora.h5\n"
          ]
        },
        {
          "data": {
            "image/png": "[encoded data removed]",
            "text/plain": [
              "<Figure size 500x300 with 1 Axes>"
            ]
          },
          "metadata": {},
          "output_type": "display_data"
        },
        {
          "name": "stdout",
          "output_type": "stream",
          "text": [
            "✔️  Fine-tuning complete; memory cleaned.\n"
          ]
        }
      ],
      "source": [
        "# 1️⃣  Clean up any leftover models/graphs\n",
        "clear_memory()\n",
        "\n",
        "# 2️⃣  Mixed-precision for speed & smaller activations\n",
        "keras.mixed_precision.set_global_policy(\"mixed_bfloat16\")\n",
        "\n",
        "# 3️⃣  Load Gemma-1B and enable LoRA\n",
        "gemma_lm = keras_hub.models.Gemma3CausalLM.from_preset(\"gemma3_instruct_1b\")\n",
        "gemma_lm.backbone.enable_lora(rank=16)\n",
        "\n",
        "# train & infer on 1024-token sequences (default was 256)\n",
        "gemma_lm.preprocessor.sequence_length = 1024\n",
        "\n",
        "compile_for_training(gemma_lm)\n",
        "\n",
        "# 4️⃣  Early stopping (no RAM-hungry weight snapshot)\n",
        "early_stop = keras.callbacks.EarlyStopping(\n",
        "    monitor=\"val_loss\", patience=1, min_delta=1e-3, restore_best_weights=False\n",
        ")\n",
        "\n",
        "# Simulate batch_size=4 with gradient accumulation\n",
        "gradient_accumulation_steps = 4\n",
        "\n",
        "# 5️⃣  Train\n",
        "history = gemma_lm.fit(\n",
        "    train_data,               # tf.data.Dataset from the split cell\n",
        "    validation_data=val_data,\n",
        "    epochs=8,                 # feel free to change\n",
        "    callbacks=[early_stop],\n",
        ")\n",
        "\n",
        "# 6️⃣  Save final LoRA adapters (tiny – a few MB)\n",
        "gemma_lm.backbone.save_lora_weights(\"lora_rank_16.weights.lora.h5\")\n",
        "print(\"💾  Saved LoRA adapters to lora_rank_16.weights.lora.h5\")\n",
        "\n",
        "# 7️⃣  Quick loss curve\n",
        "plt.figure(figsize=(5, 3))\n",
        "plt.plot(history.history[\"loss\"], \"o-\", label=\"train\")\n",
        "plt.plot(history.history.get(\"val_loss\", []), label=\"val\")\n",
        "plt.title(\"Loss\"); plt.xlabel(\"epoch\"); plt.legend(); plt.tight_layout()\n",
        "plt.show(); plt.close()\n",
        "\n",
        "# 8️⃣  Free heavy objects now that we’re done\n",
        "for obj in [\"train_data\", \"val_data\", \"history\"]:\n",
        "    if obj in globals():\n",
        "        del globals()[obj]\n",
        "gc.collect()\n",
        "\n",
        "print(\"✔️  Fine-tuning complete; memory cleaned.\")\n"
      ]
    },
    {
      "cell_type": "markdown",
      "id": "d5ebd708",
      "metadata": {
        "id": "d5ebd708"
      },
      "source": [
        "## 🔬 Validation set evaluation\n",
        "\n",
        "We compare the *base* and *fine‑tuned* checkpoints on the MTS‑Dialog validation split.  \n",
        "*(~25 min on a T4, ~8 min on an A100 – feel free to skip in a hurry.)*  \n"
      ]
    },
    {
      "cell_type": "code",
      "execution_count": 13,
      "id": "12c2712e",
      "metadata": {
        "colab": {
          "base_uri": "https://localhost:8080/",
          "height": 228
        },
        "id": "12c2712e",
        "outputId": "86603143-2f41-44ec-aed3-97cdbd6cb89b"
      },
      "outputs": [
        {
          "name": "stdout",
          "output_type": "stream",
          "text": [
            "📊 Kept 43 / 50 pairs (86.0%)\n"
          ]
        },
        {
          "name": "stderr",
          "output_type": "stream",
          "text": [
            "Generating with Fine-tuned: 100%|██████████| 43/43 [04:43<00:00,  6.58s/it]\n",
            "Generating with Base: 100%|██████████| 43/43 [02:57<00:00,  4.13s/it]\n"
          ]
        },
        {
          "data": {
            "text/html": [
              "<style type=\"text/css\">\n",
              "</style>\n",
              "<table id=\"T_d9f0a\" class=\"dataframe\">\n",
              "  <thead>\n",
              "    <tr>\n",
              "      <th class=\"blank level0\" >&nbsp;</th>\n",
              "      <th id=\"T_d9f0a_level0_col0\" class=\"col_heading level0 col0\" >Base</th>\n",
              "      <th id=\"T_d9f0a_level0_col1\" class=\"col_heading level0 col1\" >Fine-tuned</th>\n",
              "      <th id=\"T_d9f0a_level0_col2\" class=\"col_heading level0 col2\" >Δ</th>\n",
              "      <th id=\"T_d9f0a_level0_col3\" class=\"col_heading level0 col3\" >p-value</th>\n",
              "    </tr>\n",
              "    <tr>\n",
              "      <th class=\"index_name level0\" >Metric</th>\n",
              "      <th class=\"blank col0\" >&nbsp;</th>\n",
              "      <th class=\"blank col1\" >&nbsp;</th>\n",
              "      <th class=\"blank col2\" >&nbsp;</th>\n",
              "      <th class=\"blank col3\" >&nbsp;</th>\n",
              "    </tr>\n",
              "  </thead>\n",
              "  <tbody>\n",
              "    <tr>\n",
              "      <th id=\"T_d9f0a_level0_row0\" class=\"row_heading level0 row0\" >ROUGE1</th>\n",
              "      <td id=\"T_d9f0a_row0_col0\" class=\"data row0 col0\" >0.4018</td>\n",
              "      <td id=\"T_d9f0a_row0_col1\" class=\"data row0 col1\" >0.4923</td>\n",
              "      <td id=\"T_d9f0a_row0_col2\" class=\"data row0 col2\" >0.0905</td>\n",
              "      <td id=\"T_d9f0a_row0_col3\" class=\"data row0 col3\" >0.0005</td>\n",
              "    </tr>\n",
              "    <tr>\n",
              "      <th id=\"T_d9f0a_level0_row1\" class=\"row_heading level0 row1\" >ROUGE2</th>\n",
              "      <td id=\"T_d9f0a_row1_col0\" class=\"data row1 col0\" >0.1769</td>\n",
              "      <td id=\"T_d9f0a_row1_col1\" class=\"data row1 col1\" >0.2573</td>\n",
              "      <td id=\"T_d9f0a_row1_col2\" class=\"data row1 col2\" >0.0805</td>\n",
              "      <td id=\"T_d9f0a_row1_col3\" class=\"data row1 col3\" >0.0004</td>\n",
              "    </tr>\n",
              "    <tr>\n",
              "      <th id=\"T_d9f0a_level0_row2\" class=\"row_heading level0 row2\" >ROUGEL</th>\n",
              "      <td id=\"T_d9f0a_row2_col0\" class=\"data row2 col0\" >0.3330</td>\n",
              "      <td id=\"T_d9f0a_row2_col1\" class=\"data row2 col1\" >0.4080</td>\n",
              "      <td id=\"T_d9f0a_row2_col2\" class=\"data row2 col2\" >0.0750</td>\n",
              "      <td id=\"T_d9f0a_row2_col3\" class=\"data row2 col3\" >0.0013</td>\n",
              "    </tr>\n",
              "  </tbody>\n",
              "</table>\n"
            ],
            "text/plain": [
              "<pandas.io.formats.style.Styler at 0x7bbd2ec11bd0>"
            ]
          },
          "execution_count": 13,
          "metadata": {},
          "output_type": "execute_result"
        }
      ],
      "source": [
        "VAL_PATH = DATA_PATH / \"MTS-Dialog-ValidationSet.csv\"\n",
        "val_df = pd.read_csv(VAL_PATH)\n",
        "\n",
        "# Optional speed-up during experimentation\n",
        "val_df = val_df.sample(n=50, random_state=SEED)\n",
        "\n",
        "prompts_val, references_val = [], []\n",
        "for row in val_df.itertuples(index=False):\n",
        "    prompts_val.append(TEMPLATE.format(instruction=instruction, dialogue=row.dialogue))\n",
        "    references_val.append(row.section_text)\n",
        "\n",
        "# Apply same filtering as training data\n",
        "prompts_val, references_val = filter_data_by_length(\n",
        "    prompts_val, references_val, max_input_tokens=1024\n",
        ")\n",
        "\n",
        "clear_memory()\n",
        "\n",
        "gemma_lm = keras_hub.models.Gemma3CausalLM.from_preset(\"gemma3_instruct_1b\")\n",
        "gemma_lm.backbone.enable_lora(rank=16)   # must match the saved rank\n",
        "gemma_lm.backbone.load_lora_weights(\"lora_rank_16.weights.lora.h5\")\n",
        "\n",
        "# ---------- 1. Evaluate the fine-tuned model first ----------\n",
        "fine_outputs, fine_scores, fine_metrics = evaluate_model(\n",
        "    gemma_lm, prompts_val, references_val, \"Fine-tuned\"\n",
        ")\n",
        "\n",
        "# Free GPU memory held by the tuned checkpoint\n",
        "del gemma_lm\n",
        "gc.collect()\n",
        "tf.keras.backend.clear_session()\n",
        "\n",
        "# ---------- 2. Evaluate a fresh base model ----------\n",
        "base_model = keras_hub.models.Gemma3CausalLM.from_preset(\"gemma3_instruct_1b\")\n",
        "compile_with_sampler(base_model, seed=SEED)\n",
        "\n",
        "base_outputs, base_scores, base_metrics = evaluate_model(\n",
        "    base_model, prompts_val, references_val, \"Base\"\n",
        ")\n",
        "\n",
        "# ---------- 3. Summarise the improvements ----------\n",
        "rows = []\n",
        "for metric in [\"rouge1\", \"rouge2\", \"rougeL\"]:\n",
        "    base_vals = base_scores[metric]\n",
        "    fine_vals = fine_scores[metric]\n",
        "    delta = np.mean(fine_vals) - np.mean(base_vals)\n",
        "    t_stat, p_val = stats.ttest_rel(fine_vals, base_vals)\n",
        "    rows.append((metric.upper(), np.mean(base_vals), np.mean(fine_vals), delta, p_val))\n",
        "\n",
        "results_df = pd.DataFrame(\n",
        "    rows, columns=[\"Metric\", \"Base\", \"Fine-tuned\", \"Δ\", \"p-value\"]\n",
        ").set_index(\"Metric\")\n",
        "\n",
        "results_df.style.format(\"{:.4f}\")"
      ]
    },
    {
      "cell_type": "markdown",
      "id": "8813fa95",
      "metadata": {
        "id": "8813fa95"
      },
      "source": [
        "## 🔄 Quick Interactive Demo\n",
        "\n",
        "Paste a dialogue below and generate a clinical summary using the fine‑tuned Gemma model."
      ]
    },
    {
      "cell_type": "code",
      "execution_count": 15,
      "id": "4a01428b",
      "metadata": {
        "colab": {
          "base_uri": "https://localhost:8080/",
          "height": 216
        },
        "id": "4a01428b",
        "outputId": "b6e017ab-a7c2-4453-9622-7edafc240004"
      },
      "outputs": [],
      "source": [
        "clear_memory()\n",
        "\n",
        "tf.keras.backend.clear_session(); gc.collect()\n",
        "# Load the fine-tuned model with the LoRA-adapted weights\n",
        "fresh_lm = keras_hub.models.Gemma3CausalLM.from_preset(\"gemma3_instruct_1b\")\n",
        "fresh_lm.backbone.enable_lora(rank=16)   # must match the saved rank\n",
        "fresh_lm.backbone.load_lora_weights(\"lora_rank4_final.weights.lora.h5\")\n",
        "compile_with_sampler(fresh_lm, k=5, seed=SEED)\n",
        "\n",
        "sample_dialogue = \"\"\"Doctor: How are you feeling today?\n",
        "Patient: I'm still having chest pains.\n",
        "Doctor: Are they sharp or dull?\n",
        "Patient: More of a crushing pressure right here.\"\"\"\n",
        "\n",
        "prompt = TEMPLATE.format(\n",
        "    instruction=instruction,\n",
        "    dialogue= sample_dialogue\n",
        ")\n",
        "\n",
        "print(safe_generate(fresh_lm, prompt, max_new_tokens=1024))"
      ]
    },
    {
      "cell_type": "markdown",
      "id": "01fe61fb",
      "metadata": {
        "id": "01fe61fb"
      },
      "source": [
        "## 🔧 Further Work\n",
        "\n",
        "- **Improve Model Performance**: Current results are promising but still limited. Fine-tuning with more epochs, experimenting with learning rates, or trying a higher LoRA rank could yield better summaries.\n",
        "- **Experiment with Alternatives**: Test other open models like Mistral or LLaMA on the same task. Consider combining LoRA with prompt engineering or instruction tuning.\n",
        "- **Dataset Enhancements**: Explore data augmentation, add more diverse dialogues, or filter noisy examples to improve generalization.\n",
        "- **Evaluation Improvements**: Integrate medical-specific metrics (e.g. clinical concept coverage) alongside ROUGE for deeper insight.\n",
        "\n",
        "🚀 Contributions and experiments are welcome — let’s build a stronger medical summarizer together!"
      ]
    },
    {
      "cell_type": "markdown",
      "id": "97a5410e",
      "metadata": {},
      "source": []
    }
  ],
  "metadata": {
    "accelerator": "GPU",
    "colab": {
      "gpuType": "T4",
      "provenance": []
    },
    "kernelspec": {
      "display_name": "Python 3",
      "name": "python3"
    }
  },
  "nbformat": 4,
  "nbformat_minor": 5
}
